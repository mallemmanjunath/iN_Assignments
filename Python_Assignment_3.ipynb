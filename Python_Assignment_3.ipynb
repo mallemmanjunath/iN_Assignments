{
 "cells": [
  {
   "cell_type": "code",
   "execution_count": 19,
   "id": "38d6ca1d",
   "metadata": {},
   "outputs": [
    {
     "name": "stdout",
     "output_type": "stream",
     "text": [
      "My result 15\n"
     ]
    }
   ],
   "source": [
    "#userdefined_reduce_function\n",
    "def myreduce(fn_name, seq):\n",
    "  result = seq[0]\n",
    "  for item in seq[1:]:\n",
    "   result = fn_name(result, item)\n",
    "  return result\n",
    "\n",
    "def add(a,b):\n",
    "    return a+b\n",
    "lst=[1,2,3,4,5]\n",
    "print('My result',myreduce(add,lst))"
   ]
  },
  {
   "cell_type": "code",
   "execution_count": 35,
   "id": "37269d5d",
   "metadata": {},
   "outputs": [
    {
     "name": "stdout",
     "output_type": "stream",
     "text": [
      "My result: [10, 6, 7, 8]\n",
      "Even No's: [10, 2, 4, 6, 8]\n"
     ]
    }
   ],
   "source": [
    "#userdefined_filter_function\n",
    "def myfilter(fn_name, seq):\n",
    "   result=[] \n",
    "   for item in seq[:]:\n",
    "    op = fn_name(item)\n",
    "    if op:\n",
    "         result.append(item)\n",
    "   return result\n",
    "\n",
    "def greaterthanfive(x):\n",
    "    if x>5:\n",
    "        return True\n",
    "def even(x):\n",
    "    if x%2==0:\n",
    "        return True\n",
    "lst=[10,2,3,4,5,6,7,8]\n",
    "print('My result:',myfilter(greaterthanfive,lst))\n",
    "print(\"Even No's:\",myfilter(even,lst))"
   ]
  },
  {
   "cell_type": "code",
   "execution_count": 9,
   "id": "836b562e",
   "metadata": {},
   "outputs": [
    {
     "name": "stdout",
     "output_type": "stream",
     "text": [
      "['x', 'xx', 'xxx', 'xxxx', 'y', 'yy', 'yyy', 'yyyy', 'z', 'zz', 'zzz', 'zzzz']\n"
     ]
    }
   ],
   "source": [
    "#Below are usages of list comprehensions\n",
    "l=['x','y','z']\n",
    "new_list=[i*n for i in l for n in range(1,5)]\n",
    "print(new_list)"
   ]
  },
  {
   "cell_type": "code",
   "execution_count": 10,
   "id": "f3618605",
   "metadata": {},
   "outputs": [
    {
     "name": "stdout",
     "output_type": "stream",
     "text": [
      "['x', 'y', 'z', 'xx', 'yy', 'zz', 'xxx', 'yyy', 'zzz', 'xxxx', 'yyyy', 'zzzz']\n"
     ]
    }
   ],
   "source": [
    "l=['x','y','z']\n",
    "new_list=[i*n  for n in range(1,5) for i in l]\n",
    "print(new_list)"
   ]
  },
  {
   "cell_type": "code",
   "execution_count": 34,
   "id": "04a680ac",
   "metadata": {},
   "outputs": [
    {
     "name": "stdout",
     "output_type": "stream",
     "text": [
      "[[2], [3], [4], [3], [4], [5], [4], [5], [6], [2, 3, 4, 5], [3, 4, 5, 6], [4, 5, 6, 7], [5, 6, 7, 8]]\n"
     ]
    }
   ],
   "source": [
    "list=[]\n",
    "l=[[x+y] for x in range(2,5) for y in range(3)]\n",
    "m=[[x+y for x in range(2,6)] for y in range(4)] \n",
    "print(l+m)"
   ]
  },
  {
   "cell_type": "code",
   "execution_count": 37,
   "id": "07159fd5",
   "metadata": {},
   "outputs": [
    {
     "data": {
      "text/plain": [
       "[(1, 1), (2, 1), (3, 1), (1, 2), (2, 2), (3, 2), (1, 3), (2, 3), (3, 3)]"
      ]
     },
     "execution_count": 37,
     "metadata": {},
     "output_type": "execute_result"
    }
   ],
   "source": [
    "[(j,i) for i in range(1,4) for j in range(1,4)]"
   ]
  }
 ],
 "metadata": {
  "kernelspec": {
   "display_name": "Python 3",
   "language": "python",
   "name": "python3"
  },
  "language_info": {
   "codemirror_mode": {
    "name": "ipython",
    "version": 3
   },
   "file_extension": ".py",
   "mimetype": "text/x-python",
   "name": "python",
   "nbconvert_exporter": "python",
   "pygments_lexer": "ipython3",
   "version": "3.8.8"
  }
 },
 "nbformat": 4,
 "nbformat_minor": 5
}
