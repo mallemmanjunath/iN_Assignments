{
 "cells": [
  {
   "cell_type": "code",
   "execution_count": 11,
   "id": "3725835d",
   "metadata": {},
   "outputs": [
    {
     "name": "stdout",
     "output_type": "stream",
     "text": [
      "*    \n",
      "**    \n",
      "***    \n",
      "****    \n",
      "*****    \n",
      "**** \n",
      "***  \n",
      "**   \n",
      "*    \n"
     ]
    }
   ],
   "source": [
    "#creating a required pattern\n",
    "\n",
    "n=5\n",
    "for i in range(n):\n",
    "    print(\"*\"*(i+1)+\" \"*(n-1))\n",
    "for j in range(n-1):\n",
    "    print(\"*\"*(n-1-j)+\" \"*(j+1))"
   ]
  },
  {
   "cell_type": "code",
   "execution_count": 14,
   "id": "c230cb6f",
   "metadata": {},
   "outputs": [
    {
     "name": "stdout",
     "output_type": "stream",
     "text": [
      "Enter a word: mallem\n",
      "mellam\n"
     ]
    }
   ],
   "source": [
    "#reversing a string\n",
    "\n",
    "name=input(\"Enter a word: \")\n",
    "print(name[::-1])"
   ]
  },
  {
   "cell_type": "code",
   "execution_count": null,
   "id": "dbb978a3",
   "metadata": {},
   "outputs": [],
   "source": []
  }
 ],
 "metadata": {
  "kernelspec": {
   "display_name": "Python 3",
   "language": "python",
   "name": "python3"
  },
  "language_info": {
   "codemirror_mode": {
    "name": "ipython",
    "version": 3
   },
   "file_extension": ".py",
   "mimetype": "text/x-python",
   "name": "python",
   "nbconvert_exporter": "python",
   "pygments_lexer": "ipython3",
   "version": "3.8.8"
  }
 },
 "nbformat": 4,
 "nbformat_minor": 5
}
